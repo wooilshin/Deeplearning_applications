{
 "cells": [
  {
   "cell_type": "markdown",
   "id": "a9d22950-9654-42e1-b06c-6b7e0b142e0a",
   "metadata": {},
   "source": [
    "<h1>KOSPI Prediction using RNN (GRU)<h1\\>"
   ]
  },
  {
   "cell_type": "markdown",
   "id": "b48742ca-e005-4527-ad50-d76d09600188",
   "metadata": {},
   "source": [
    "<h2>Load data<h2\\>"
   ]
  },
  {
   "cell_type": "code",
   "execution_count": 7,
   "id": "76955ade-bed8-420e-8b7f-4966c2b0f8a7",
   "metadata": {},
   "outputs": [],
   "source": [
    "\n",
    "# Data split function\n",
    "\n",
    "def split_data(price, lookback):\n",
    "    data_raw = price.to_numpy()\n",
    "    data = []\n",
    "\n",
    "    # Create sequences of length 'lookback + 1' (for example when we have 'lookback'=3 each sequence will contain 3 for input 1 for label\n",
    "    for index in range(len(data_raw) -lookback):\n",
    "        data.append(data_raw[index: index+lookback +1])\n",
    "\n",
    "    data = np.array(data)\n",
    "    train_set_size = data.shape[0] - (test_set_size)\n",
    "\n",
    "    # Split data into train and test\n",
    "    x_train = data[:train_set_size, :-1, :]\n",
    "    y_train = data[:train_set_size, -1,:]\n",
    "\n",
    "    x_test = data[train_set_size:, :-1, :]\n",
    "    y_test = data[train_set_size:, -1,:]\n",
    "\n",
    "    return [x_train, y_train, x_test, y_test]\n",
    "\n",
    "\n",
    "# Execute split\n",
    "\n",
    "test_set_start_date = \"2020-01-01\"\n",
    "price =data[['close']].copy()\n",
    "scaler= MinMaxScaler(feature_range=(-1,1))\n",
    "scaler.fit(data[data['date'] <test_set_start_date[['close']])\n",
    "price['close'] = scaler.transform(price['close'].values.reshape(-1,1))\n",
    "test_set_size = len(data[data['date'] >= test_set_start_date])\n"
   ]
  },
  {
   "cell_type": "markdown",
   "id": "290b7b51-5514-4514-8fe3-abb801b570a0",
   "metadata": {},
   "source": [
    "<h2> Data loader <h2\\>"
   ]
  },
  {
   "cell_type": "code",
   "execution_count": null,
   "id": "14852213-788d-4078-9955-6857550b6a51",
   "metadata": {},
   "outputs": [],
   "source": [
    "device = torch.device(\"cuda\" if torch.cuda.is_available() else \"cpu\")\n",
    "\n",
    "x_train = torch.from_numpy(x_train).type(torch.Tensor).to(device)\n",
    "x_test = torch.from_numpy(x_test).type(torch.Tensor).to(device)\n",
    "y_train = torch.from_numpy(y_train).type(torch.Tensor).to(device)\n",
    "y_test = torch.from_numpy(y_test).type(torch.Tensor).to(device)\n",
    "\n",
    "# Tensor dataset (TensorDataset combines input and target tensors)\n",
    "\n",
    "train_dataset = TensorDataset(x_train, y_train)\n",
    "test_dataset = TensorDataset(x_test, y_test)\n",
    "\n",
    "# Batch size\n",
    "batch_size = 10000\n",
    "\n",
    "# Create Dataloader for batching and shuffling\n",
    "train_loader = DataLoader(train_dataset, batch_size=batch_size, shuffle= True)\n",
    "test_loader = DataLoader(test_dataset, batch_size=batch_size, shuffle= False)\n",
    "\n",
    "# Combine train and test sets for unified loader\n",
    "\n",
    "x_combined = torch.cat((x_train, x_test), dim=0)\n",
    "y_combined = torch.cat((y_train, y_test), dim=0)\n",
    "combined_dataset = TensorDataset(x_combined, y_combined)\n",
    "combined_loader =DataLoader(combined_dataset, batch_size=batch_size, shuffle=False)"
   ]
  },
  {
   "cell_type": "markdown",
   "id": "3a37de92-ff6c-45c9-8c14-f39f733949ce",
   "metadata": {},
   "source": [
    "<h2> RNN Model <h2\\>"
   ]
  },
  {
   "cell_type": "code",
   "execution_count": null,
   "id": "bf498bd9-409b-44e0-a3df-654a627e62fc",
   "metadata": {},
   "outputs": [],
   "source": [
    "class RNNModel(nn.Module):\n",
    "    def __init__(self, input_dim, hidden_size, num_layers, output_dim):\n",
    "        super(RNNModel, self).__init__()                                      # super(RNNModel, self) tells Python to treat methods in the parent class (nn.Module) as if they are methods of self.  In python 3 \"super().__init__()\" is possible too\n",
    "\n",
    "        self.hidden_size = hidden_size                                         # width\n",
    "        self.num_layers = num_layers                                           # depth (number of GRU layers to stack)\n",
    "        self.gru = nn.GRU(input_dim, hidden_size, num_layers, batch_first=True)\n",
    "        self.fc = nn.Linear(hidden_size, output_dim)\n",
    "\n",
    "    def forward(self, x):    # self is a reference to the current instance of the class \n",
    "        h0 = torch.zeros(self.num_layers, x.size(0), self.hidden_size).to(x.device)\n",
    "        out, _ = self.gru(x,h0)\n",
    "        out = out[:, -1, :]\n",
    "        out = self.fc(out)\n",
    "        return out"
   ]
  },
  {
   "cell_type": "markdown",
   "id": "1ff2ca54-cf1d-4bfe-864e-eb344d633463",
   "metadata": {},
   "source": [
    "<h2> Model Train <h2\\>"
   ]
  },
  {
   "cell_type": "code",
   "execution_count": null,
   "id": "da305785-3bd3-4027-b7a8-c225f1e7b966",
   "metadata": {},
   "outputs": [],
   "source": [
    "criterion = torch.nn.MSELoss\n",
    "optimizer = torch.optim.Adam(model.parameteres(), lr=0.01)\n",
    "\n",
    "hist = np.zeros(num_epochs)\n",
    "start_time = time.time()\n",
    "\n",
    "for epoch in range(num_epochs):\n",
    "    model.train()\n",
    "\n",
    "    for x_batch, y_batch in train_loader:\n",
    "        y_train_pred =model(x_batch)\n",
    "        loss = criterion(y_train_pred, y_batch)\n",
    "        optimizer.zero_grad()\n",
    "        loss.backward()\n",
    "        optimizer.step()\n",
    "        \n",
    "    with torch.no_grad():\n",
    "        model.eval()\n",
    "        y_test_pred = model(x_test)\n",
    "        test_loss = criterion(y_test_pred, y_test)\n",
    "\n",
    "    if (epoch +1)% 10 ==0:\n",
    "        print(\"Epoch\", epoch +!, \"Train loss:\", loss.item(),\n",
    "              \"Test Loss:\", test_loss.item())\n",
    "    hist[epoch] = loss.item()\n",
    "\n",
    "training_time = time.time() -start_time\n",
    "print(\"Training time: {}\". format(training_time))"
   ]
  },
  {
   "cell_type": "markdown",
   "id": "b6c06557-dbab-4e57-8e06-3c7c0bc147f0",
   "metadata": {},
   "source": [
    "<h2>Create Prediction Dataframe<h2\\>"
   ]
  },
  {
   "cell_type": "code",
   "execution_count": null,
   "id": "9e4fb467-2bb1-4ffb-bcd9-e08a9b919db5",
   "metadata": {},
   "outputs": [],
   "source": [
    "# The model assumes that the errors (or residuals) between the observed interest rate (FFR_t) and the predicted interest rate (Ybar_t)\n",
    "\n",
    "with torch.no_grad():  # this temporarily disables gradient calculation, which saves memory and computation(After the block, gradients are automatically re-enabled)\n",
    "    model.eval()\n",
    "    predictions = []   # predicted value\n",
    "    targets = []       # true value\n",
    "\n",
    "    # looping over batches\n",
    "    for x_batch, y_batch in combined_loader:\n",
    "        y_pred = model(x_batch)\n",
    "        predictions.append(y_pred)\n",
    "        targets.append(y_batch)\n",
    "        \n",
    "y_pred = torch.cat(predictions)\n",
    "y_original = torch.cat(targets)\n",
    "\n",
    "\n",
    "# Convert predictions and targets to dataframes after inverse scaling\n",
    "predict = pd.DataFrame(\n",
    "    scaler.inverse_transform(y_pred.detach().cpu().numpy()),\n",
    "    columns = [\"predicted\"]\n",
    ")\n",
    "original = pd.DataFrame(\n",
    "    scaler.inverse_transform(y_original.detach().cpu().numpy()),\n",
    "    columns = [\"original\"]   \n",
    ")\n",
    "\n",
    "# Adding the date column from `data`\n",
    "predict[\"date\"] = data [-len(predict):][\"date\"]\n",
    "original[\"date\"] = data [-len(original):][\"date\"]\n"
   ]
  },
  {
   "cell_type": "markdown",
   "id": "508019a7-95b2-40e1-9946-389702038e6e",
   "metadata": {},
   "source": [
    "<h2>RNN Stock price prediction signal<h2\\>"
   ]
  },
  {
   "cell_type": "code",
   "execution_count": null,
   "id": "888da09d-3e09-4d4e-af35-7981e9d18d07",
   "metadata": {},
   "outputs": [],
   "source": [
    "# Signal generation \n",
    "monitoring_ticker_list = ['1001']\n",
    "kospi_data = data_loader.load_index_data(ticker_list=monitoring_ticker_list, freq ='d', delay =1) # Bring KOSPI data\n",
    "kospi_data[\"predicted_close\"] = testPredictPlot[-len(kospi_data):]\n",
    "kospi_data[\"predicted_change_pct\"] = kospi_data [\"predicted_close\"].pct_change().bfill()* 100\n",
    "kospi_data[\"signal\"] = kospi_data[\"predicted_change_pct\"].apply(calculate_signal)\n",
    "\n",
    "# Function to decide 'Decline' and'Rise'\n",
    "def calculate_signal(indicator):\n",
    "    if indicator >=0.6:\n",
    "        return \"rise\"\n",
    "    elif indicator <=-0.6:\n",
    "        return \"decline\"\n",
    "    else:\n",
    "        return \"neutral\""
   ]
  },
  {
   "cell_type": "markdown",
   "id": "db93839f-50fd-405c-8c22-6ec11be19782",
   "metadata": {},
   "source": [
    "<h2>ETF rebalancing <h2\\>"
   ]
  },
  {
   "cell_type": "code",
   "execution_count": null,
   "id": "5bfa5295-bf37-49d2-b68a-71b41229d079",
   "metadata": {},
   "outputs": [],
   "source": [
    "# Accepting 'monitoring_data' as an input variable containing signals,\n",
    "# the portfolio is adjusted by fully investing in the KODEX ETF when the signal indicates an upward trend,\n",
    "# partially investing in the KODEX ETF during a neutral trend, and fully investing in the KODEX Inverse ETF during a downward trend\n",
    "\n",
    "def simulate_market_monitoring_etf(ohlcv_data: pd.Dataframe, monitoring_data: pd.Dataframe):\n",
    "\n",
    "    # ohlcv_data is a dataFrame containing OHLCV (Open, High, Low, Close, Volume) data,\n",
    "    # monitoring_data is a dataFrame containing signals (rise, neutral, decline) that indicate market direction\n",
    "\n",
    "    # rebalance_date captures dates where the signal in monitoring_data changes by comparing each row with the previous row shift(1)\n",
    "    # month_end holds the end-of-month dates (retrieved by get_month_end) for regular rebalancing\n",
    "    account = Account(initial cash=100000000)\n",
    "    broker = Broker()\n",
    "    rebalance_date = monitoring_data[monitoring_data[\"signal\"] != monitoring_data[\"signal\"].shift(1)].index.tolist()\n",
    "    month_end = get_month_end(kospi_data.index.min(), kospi_data.index.max())\n",
    "    rebalance_date += month_end\n",
    "\n",
    "    # daily trading\n",
    "    for date, ohlcv in ohlcv_data.groupby(['date']):\n",
    "        transactions = broker.process_order(dt=date, data=ohlcv, orders=account.orders)\n",
    "        account.update_position(transactions=transactions)\n",
    "        account.update_portfolio(dt=date, data=ohlcv)\n",
    "        account.update_order()\n",
    "\n",
    "        if date not in rebalance_date:\n",
    "            continue\n",
    "        print(date.date())\n",
    "        \n",
    "    # adjust portfolio based on signal \n",
    "        signal = monitoring_data.loc[date]['signal']\n",
    "    # numbers are KOSPI ETF tickers\n",
    "        if signal == \"rise\":\n",
    "            weight = {'122630' :1, \n",
    "                      '069500' :0,\n",
    "                      '252670' :0}\n",
    "        if signal == \"neutral\":\n",
    "            weight = {'122630' :0, \n",
    "                      '069500' :1,\n",
    "                      '252670' :0}\n",
    "        if signal == \"decline\":\n",
    "            weight = {'122630' :0, \n",
    "                      '069500' :0,\n",
    "                      '252670' :1}"
   ]
  }
 ],
 "metadata": {
  "kernelspec": {
   "display_name": "Python 3 (ipykernel)",
   "language": "python",
   "name": "python3"
  },
  "language_info": {
   "codemirror_mode": {
    "name": "ipython",
    "version": 3
   },
   "file_extension": ".py",
   "mimetype": "text/x-python",
   "name": "python",
   "nbconvert_exporter": "python",
   "pygments_lexer": "ipython3",
   "version": "3.11.7"
  }
 },
 "nbformat": 4,
 "nbformat_minor": 5
}
